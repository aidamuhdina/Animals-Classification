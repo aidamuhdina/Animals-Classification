{
  "nbformat": 4,
  "nbformat_minor": 0,
  "metadata": {
    "colab": {
      "name": "Untitled0.ipynb",
      "provenance": [],
      "collapsed_sections": []
    },
    "kernelspec": {
      "name": "python3",
      "display_name": "Python 3"
    },
    "language_info": {
      "name": "python"
    },
    "accelerator": "GPU"
  },
  "cells": [
    {
      "cell_type": "code",
      "metadata": {
        "id": "_lIJpdzjUfKM",
        "colab": {
          "base_uri": "https://localhost:8080/"
        },
        "outputId": "b5ec07d3-49bd-432b-eacc-01f472f9ebc3"
      },
      "source": [
        "import os\n",
        "\n",
        "base_dir = '/content/drive/MyDrive/Colab machine learning/Project Deployment/Animals 5'\n",
        "list_animals = os.listdir(base_dir)\n",
        "print(list_animals)"
      ],
      "execution_count": 1,
      "outputs": [
        {
          "output_type": "stream",
          "text": [
            "['butterfly', 'chicken', 'dog', 'horse', 'spider']\n"
          ],
          "name": "stdout"
        }
      ]
    },
    {
      "cell_type": "code",
      "metadata": {
        "colab": {
          "base_uri": "https://localhost:8080/"
        },
        "id": "BGwQb8-Eu95J",
        "outputId": "cc10d5ef-f163-4390-c38e-0428a0918f5e"
      },
      "source": [
        "from PIL import Image\n",
        "\n",
        "total_dataset = 0\n",
        "for animals in list_animals:\n",
        "  dir = os.path.join(base_dir, animals)\n",
        "  total_img = len(os.listdir(dir))\n",
        "  print(animals + ': ' + str(total_img))\n",
        "  total_dataset = total_dataset + total_img\n",
        "\n",
        "  img_name = os.listdir(dir)\n",
        "  for i in range(4):\n",
        "    img = Image.open(dir + '/' + img_name[i])\n",
        "    print('-' + str(img.size))\n",
        "  print('------------')\n",
        "\n",
        "print('\\nTotal Dataset : ', total_dataset)"
      ],
      "execution_count": 2,
      "outputs": [
        {
          "output_type": "stream",
          "text": [
            "butterfly: 2112\n",
            "-(428, 640)\n",
            "-(300, 225)\n",
            "-(640, 428)\n",
            "-(300, 201)\n",
            "------------\n",
            "chicken: 2500\n",
            "-(220, 165)\n",
            "-(300, 225)\n",
            "-(300, 265)\n",
            "-(300, 198)\n",
            "------------\n",
            "dog: 2500\n",
            "-(225, 300)\n",
            "-(300, 200)\n",
            "-(300, 268)\n",
            "-(300, 199)\n",
            "------------\n",
            "horse: 2500\n",
            "-(225, 300)\n",
            "-(300, 234)\n",
            "-(300, 212)\n",
            "-(300, 256)\n",
            "------------\n",
            "spider: 2500\n",
            "-(640, 426)\n",
            "-(300, 200)\n",
            "-(640, 426)\n",
            "-(300, 164)\n",
            "------------\n",
            "\n",
            "Total Dataset :  12112\n"
          ],
          "name": "stdout"
        }
      ]
    },
    {
      "cell_type": "code",
      "metadata": {
        "id": "51Uzz1wK1Ck8"
      },
      "source": [
        "from tensorflow.keras.preprocessing.image import ImageDataGenerator\n",
        "\n",
        "train_datagen = ImageDataGenerator(\n",
        "                    rescale=1./255,\n",
        "                    rotation_range=20,\n",
        "                    horizontal_flip=True,\n",
        "                    shear_range = 0.2,\n",
        "                    fill_mode = 'nearest',\n",
        "                    validation_split = 0.2)\n",
        " \n",
        "val_datagen = ImageDataGenerator(\n",
        "                    rescale=1./255,\n",
        "                    fill_mode='nearest',\n",
        "                    validation_split = 0.2)"
      ],
      "execution_count": 3,
      "outputs": []
    },
    {
      "cell_type": "code",
      "metadata": {
        "colab": {
          "base_uri": "https://localhost:8080/"
        },
        "id": "hpvEwcW21de9",
        "outputId": "1af942a0-6330-43cf-9be7-38133c1ff42a"
      },
      "source": [
        "my_batch_size = 32\n",
        "train_generator = train_datagen.flow_from_directory(\n",
        "    base_dir,\n",
        "    target_size=(200,200),\n",
        "    batch_size=my_batch_size,\n",
        "    shuffle=True,\n",
        "    subset='training',\n",
        "    class_mode='categorical')\n",
        "\n",
        "val_generator = val_datagen.flow_from_directory(\n",
        "    base_dir,\n",
        "    target_size=(200, 200),\n",
        "    batch_size=my_batch_size,\n",
        "    subset='validation',\n",
        "    class_mode='categorical')"
      ],
      "execution_count": 4,
      "outputs": [
        {
          "output_type": "stream",
          "text": [
            "Found 9690 images belonging to 5 classes.\n",
            "Found 2422 images belonging to 5 classes.\n"
          ],
          "name": "stdout"
        }
      ]
    },
    {
      "cell_type": "code",
      "metadata": {
        "id": "6EgK7aWj1uUw"
      },
      "source": [
        "import tensorflow as tf\n",
        "from tensorflow.keras.layers import Input\n",
        "from tensorflow.keras.applications import ResNet152V2\n",
        "\n",
        "model = tf.keras.models.Sequential([\n",
        "    ResNet152V2(weights='imagenet', include_top=False, input_tensor=Input(shape=(200,200,3))),\n",
        "    tf.keras.layers.Conv2D(64, (3,3), activation='relu'),\n",
        "    tf.keras.layers.MaxPooling2D(2,2),\n",
        "    tf.keras.layers.Flatten(),\n",
        "    tf.keras.layers.Dense(256, activation='relu'),\n",
        "    tf.keras.layers.Dense(5, activation='softmax')])\n",
        "model.layers[0].trainable = False\n",
        "\n",
        "model.compile(loss='categorical_crossentropy',\n",
        "              optimizer=tf.optimizers.Adam(learning_rate=1.0000e-06),\n",
        "              metrics=['accuracy'])"
      ],
      "execution_count": 5,
      "outputs": []
    },
    {
      "cell_type": "code",
      "metadata": {
        "id": "o1V_gReq13vY"
      },
      "source": [
        "#membuat kelas callback untuk menghentikan training\n",
        "class myCallback(tf.keras.callbacks.Callback):\n",
        "  def on_epoch_end(self, epoch, logs={}):\n",
        "    if logs.get('accuracy')>=0.95 and logs.get('val_accuracy')>=0.95:\n",
        "      self.model.stop_training = True\n",
        "      accuracy = float(logs.get('accuracy'))*100\n",
        "      val_accuracy = float(logs.get('val_accuracy'))*100\n",
        "      print(\"reached %.2f%% accuracy and %.2f%% val_accuracy\" %(accuracy, val_accuracy))\n",
        "\n",
        "callback = myCallback()\n",
        "\n",
        "# from tensorflow.keras.callbacks import EarlyStopping\n",
        "\n",
        "# early_stop = EarlyStopping(monitor='val_loss', mode='min', verbose=1, patience=3)"
      ],
      "execution_count": 6,
      "outputs": []
    },
    {
      "cell_type": "code",
      "metadata": {
        "colab": {
          "base_uri": "https://localhost:8080/"
        },
        "id": "gYO3ucO02BA2",
        "outputId": "fc296a13-652c-4b42-aa74-d2b774b7b102"
      },
      "source": [
        "history = model.fit(\n",
        "    train_generator,\n",
        "    epochs=30,\n",
        "    validation_data=val_generator,\n",
        "    verbose=1,\n",
        "    callbacks=[callback])"
      ],
      "execution_count": 7,
      "outputs": [
        {
          "output_type": "stream",
          "text": [
            "Epoch 1/30\n",
            "303/303 [==============================] - 159s 490ms/step - loss: 4.1302 - accuracy: 0.3066 - val_loss: 2.1291 - val_accuracy: 0.4306\n",
            "Epoch 2/30\n",
            "303/303 [==============================] - 143s 472ms/step - loss: 1.3629 - accuracy: 0.5731 - val_loss: 0.8537 - val_accuracy: 0.7110\n",
            "Epoch 3/30\n",
            "303/303 [==============================] - 143s 472ms/step - loss: 0.7188 - accuracy: 0.7600 - val_loss: 0.5454 - val_accuracy: 0.8159\n",
            "Epoch 4/30\n",
            "303/303 [==============================] - 143s 472ms/step - loss: 0.5022 - accuracy: 0.8348 - val_loss: 0.4101 - val_accuracy: 0.8646\n",
            "Epoch 5/30\n",
            "303/303 [==============================] - 143s 472ms/step - loss: 0.4012 - accuracy: 0.8747 - val_loss: 0.3348 - val_accuracy: 0.8914\n",
            "Epoch 6/30\n",
            "303/303 [==============================] - 142s 467ms/step - loss: 0.3392 - accuracy: 0.8956 - val_loss: 0.2874 - val_accuracy: 0.9092\n",
            "Epoch 7/30\n",
            "303/303 [==============================] - 143s 473ms/step - loss: 0.2937 - accuracy: 0.9054 - val_loss: 0.2527 - val_accuracy: 0.9207\n",
            "Epoch 8/30\n",
            "303/303 [==============================] - 142s 468ms/step - loss: 0.2595 - accuracy: 0.9199 - val_loss: 0.2292 - val_accuracy: 0.9298\n",
            "Epoch 9/30\n",
            "303/303 [==============================] - 142s 467ms/step - loss: 0.2301 - accuracy: 0.9282 - val_loss: 0.2116 - val_accuracy: 0.9368\n",
            "Epoch 10/30\n",
            "303/303 [==============================] - 142s 469ms/step - loss: 0.2085 - accuracy: 0.9326 - val_loss: 0.1982 - val_accuracy: 0.9401\n",
            "Epoch 11/30\n",
            "303/303 [==============================] - 141s 464ms/step - loss: 0.1965 - accuracy: 0.9394 - val_loss: 0.1877 - val_accuracy: 0.9438\n",
            "Epoch 12/30\n",
            "303/303 [==============================] - 141s 466ms/step - loss: 0.1720 - accuracy: 0.9478 - val_loss: 0.1782 - val_accuracy: 0.9463\n",
            "Epoch 13/30\n",
            "303/303 [==============================] - 140s 461ms/step - loss: 0.1740 - accuracy: 0.9454 - val_loss: 0.1706 - val_accuracy: 0.9484\n",
            "Epoch 14/30\n",
            "303/303 [==============================] - 140s 463ms/step - loss: 0.1648 - accuracy: 0.9462 - val_loss: 0.1642 - val_accuracy: 0.9505\n",
            "Epoch 15/30\n",
            "303/303 [==============================] - 140s 460ms/step - loss: 0.1529 - accuracy: 0.9517 - val_loss: 0.1588 - val_accuracy: 0.9542\n",
            "reached 95.17% accuracy and 95.42% val_accuracy\n"
          ],
          "name": "stdout"
        }
      ]
    },
    {
      "cell_type": "code",
      "metadata": {
        "id": "CnUtnlqr2F99",
        "colab": {
          "base_uri": "https://localhost:8080/",
          "height": 573
        },
        "outputId": "166a64e1-daf2-4cd9-f26a-0e06a5e4a157"
      },
      "source": [
        "import matplotlib.pyplot as plt\n",
        "%matplotlib inline\n",
        "\n",
        "#plot accuracy\n",
        "plt.plot(history.history['accuracy'])\n",
        "plt.plot(history.history['val_accuracy'])\n",
        "plt.title('Model Accuracy')\n",
        "plt.ylabel('accuracy')\n",
        "plt.xlabel('epoch')\n",
        "plt.legend(['train', 'test'], loc='upper left')\n",
        "plt.show()\n",
        "\n",
        "#plot loss\n",
        "plt.plot(history.history['loss'])\n",
        "plt.plot(history.history['val_loss'])\n",
        "plt.title('Model Loss')\n",
        "plt.ylabel('loss')\n",
        "plt.xlabel('epoch')\n",
        "plt.legend(['train', 'test'], loc='upper left')\n",
        "plt.show()"
      ],
      "execution_count": 8,
      "outputs": [
        {
          "output_type": "display_data",
          "data": {
            "image/png": "[encoded data removed]",
            "text/plain": [
              "<Figure size 432x288 with 1 Axes>"
            ]
          },
          "metadata": {
            "tags": [],
            "needs_background": "light"
          }
        },
        {
          "output_type": "display_data",
          "data": {
            "image/png": "[encoded data removed]",
            "text/plain": [
              "<Figure size 432x288 with 1 Axes>"
            ]
          },
          "metadata": {
            "tags": [],
            "needs_background": "light"
          }
        }
      ]
    },
    {
      "cell_type": "code",
      "metadata": {
        "id": "tj5IWREI2g3w"
      },
      "source": [
        "# # Konversi model ke tflite\n",
        "# converter = tf.lite.TFLiteConverter.from_keras_model(model)\n",
        "# tflite_model = converter.convert()\n",
        "\n",
        "# #menyimpan model\n",
        "# with tf.io.gfile.GFile('model.tflite', 'wb') as f:\n",
        "#   f.write(tflite_model)"
      ],
      "execution_count": 9,
      "outputs": []
    }
  ]
}